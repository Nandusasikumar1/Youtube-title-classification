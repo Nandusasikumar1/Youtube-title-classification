{
  "cells": [
    {
      "cell_type": "markdown",
      "metadata": {
        "colab_type": "text",
        "id": "view-in-github"
      },
      "source": [
        "<a href=\"https://colab.research.google.com/github/Nandusasikumar1/Youtube-title-classification/blob/main/youtube_title_classification.ipynb\" target=\"_parent\"><img src=\"https://colab.research.google.com/assets/colab-badge.svg\" alt=\"Open In Colab\"/></a>"
      ]
    },
    {
      "cell_type": "markdown",
      "metadata": {
        "id": "eOevpAv30rFm"
      },
      "source": [
        "# Youtube title classification using NLP and Random forests algorithm.\n",
        " * Used `Youtube Data Api v3` for collecting the data.\n",
        " \n",
        " * Collected titles for 4 search queries:  **Machine learning,Maths,Smat phone,food** (16500 titles in each title category).\n",
        "\n",
        " * Used this data for training Random forests classifier and created a Youtube title category classification model.\n",
        "\n",
        "* If we give title of a youtube video title as input to the model,It will output the category of the title.\n",
        "\n",
        "* Since the *Youtube Data Api* has requests limits ,I used multiple google accounts for creating different api keys and retrieved data .(It took 3 days)\n",
        "\n"
      ]
    },
    {
      "cell_type": "markdown",
      "metadata": {
        "id": "gEMURYQg2VAo"
      },
      "source": [
        "Data collection"
      ]
    },
    {
      "cell_type": "code",
      "execution_count": null,
      "metadata": {
        "id": "NkxJ-MyVty1e"
      },
      "outputs": [],
      "source": [
        "#  # I used local machine for running this data collection code you can do this in colab also\n",
        "# from googleapiclient.discovery import build #import  googleapliclient library for creating api requests\n",
        "# import json\n",
        "# import time\n",
        "\n",
        "# YOUTUBE_API_SERVICE_NAME = \"youtube\"\n",
        "# YOUTUBE_API_VERSION = \"v3\"\n",
        "\n",
        "# import json \n",
        "# with open('/content/secrets.json','r') as secrets:\n",
        "#   keys = json.load(secrets)\n",
        "\n",
        "# def get_data(search_query:str,folder:str): #Function for creating a an api requests and store the results in a folder as json file\n",
        "#     youtube=build(developerKey=keys['key1'],serviceName=YOUTUBE_API_SERVICE_NAME,version=YOUTUBE_API_VERSION) #Create build instance and pass the search query ,api key ,max results and language\n",
        "#     search_keyword = youtube.search().list(q = search_query, part = \"snippet\",\n",
        "#                                                 maxResults = 50,relevanceLanguage='en').execute() #execute request\n",
        "\n",
        "#     data=[(i['snippet']['title'],i['snippet']['description']) for i in search_keyword['items']] #collecting title and description of different videos for a particular search query\n",
        "#     page_token=search_keyword['nextPageToken'] \n",
        "\n",
        "#     \"\"\"youtube data api has certain limitations.We need to find the next page token in each request and should pass it to the next request for fetching the next 50 results\n",
        "#     (the maximum number of results in one request response is 50 and we will only get a maximum of 10 iterations .That's why I used 10 in the range function in for loop.The for loop \n",
        "#     is used for fetching the next 50 results in each request with different page tokens)\n",
        "#      \"\"\"\n",
        "\n",
        "#     for i in range(10):\n",
        "#         # time.sleep(10)\n",
        "#         search_keyword = youtube.search().list(q = search_query, part = \"snippet\",\n",
        "#                                                 maxResults = 100,pageToken=page_token,relevanceLanguage='en')\\\n",
        "#                                                     .execute()\n",
        "    \n",
        "#         data.extend([(i['snippet']['title'],i['snippet']['description']) for i in search_keyword['items']])\n",
        "#         page_token=search_keyword['nextPageToken']\n",
        "#         print(page_token)\n",
        "    \n",
        "#     with open(f\"{folder}/{search_query}.json\", \"w\",encoding='utf8') as outfile:# saving the collected data as a json file with the name of the search query in the specified folder\n",
        "#         json.dump(data, outfile,ensure_ascii=False,indent=2)\n",
        "\n",
        "# get_data('vivo smartphones','smart phone')"
      ]
    },
    {
      "cell_type": "markdown",
      "metadata": {
        "id": "eauDYL8X5Ov4"
      },
      "source": [
        "Importing required packages\n",
        "* os for locating file paths\n",
        "* pandas for creating Data Frame\n",
        "* Seaborn and Matplotlib for visualsation\n",
        "* nltk for Natural language Processing(word lemmatization,removing stop words etc..)\n",
        "* sklearn for building our machine learning model"
      ]
    },
    {
      "cell_type": "code",
      "execution_count": 1,
      "metadata": {
        "id": "tFqzhwczDRav"
      },
      "outputs": [],
      "source": [
        "import os\n",
        "import pandas as pd\n",
        "import json\n",
        "\n",
        "import seaborn as sns\n",
        "import matplotlib .pyplot as plt\n",
        "\n",
        "import nltk\n",
        "from nltk.corpus import stopwords\n",
        "\n",
        "from sklearn.model_selection import train_test_split\n",
        "from sklearn.pipeline import Pipeline\n",
        "from sklearn.feature_extraction.text import TfidfVectorizer\n",
        "from sklearn.ensemble import RandomForestClassifier\n"
      ]
    },
    {
      "cell_type": "markdown",
      "metadata": {
        "id": "dMaVKdnb575O"
      },
      "source": [
        "### Loading data from google drive"
      ]
    },
    {
      "cell_type": "code",
      "execution_count": null,
      "metadata": {
        "colab": {
          "base_uri": "https://localhost:8080/"
        },
        "id": "crWuCDw7gig8",
        "outputId": "36abbac3-ac12-4aeb-877f-c551efe7f4c4"
      },
      "outputs": [
        {
          "name": "stdout",
          "output_type": "stream",
          "text": [
            "Drive already mounted at /content/drive; to attempt to forcibly remount, call drive.mount(\"/content/drive\", force_remount=True).\n"
          ]
        }
      ],
      "source": [
        "# from google.colab import drive\n",
        "# drive.mount('/content/drive')"
      ]
    },
    {
      "cell_type": "markdown",
      "metadata": {
        "id": "AXQYiikH6GCH"
      },
      "source": [
        "### Using os for accessing the files in drive and creating a Data Frame with pandas"
      ]
    },
    {
      "cell_type": "code",
      "execution_count": null,
      "metadata": {
        "id": "OEr031BVE-kj"
      },
      "outputs": [],
      "source": [
        "root_dir='youtube_analysis'\n",
        "folders=[i for i in os.listdir(root_dir) if os.path.isdir(os.path.join(root_dir,i))]\n",
        "df=pd.DataFrame(columns=['title','category'])\n",
        "for folder in folders:\n",
        "  for file in os.listdir(os.path.join(root_dir,folder)):\n",
        "    with open(os.path.join(root_dir,folder,file)) as f:\n",
        "      data=json.load(f)\n",
        "      temp_df=pd.DataFrame([[d[0],folder] for d in data],columns=['title','category'])\n",
        "      df=pd.concat([df,temp_df],ignore_index=True)\n",
        "        \n",
        "    \n"
      ]
    },
    {
      "cell_type": "code",
      "execution_count": null,
      "metadata": {
        "colab": {
          "base_uri": "https://localhost:8080/",
          "height": 424
        },
        "id": "3bep2La0Gfk_",
        "outputId": "32f588f1-b56a-41d5-ae34-d7f1c67c6a61"
      },
      "outputs": [
        {
          "data": {
            "text/html": [
              "\n",
              "  <div id=\"df-8a2b6068-4648-48ed-a526-b01397706d52\">\n",
              "    <div class=\"colab-df-container\">\n",
              "      <div>\n",
              "<style scoped>\n",
              "    .dataframe tbody tr th:only-of-type {\n",
              "        vertical-align: middle;\n",
              "    }\n",
              "\n",
              "    .dataframe tbody tr th {\n",
              "        vertical-align: top;\n",
              "    }\n",
              "\n",
              "    .dataframe thead th {\n",
              "        text-align: right;\n",
              "    }\n",
              "</style>\n",
              "<table border=\"1\" class=\"dataframe\">\n",
              "  <thead>\n",
              "    <tr style=\"text-align: right;\">\n",
              "      <th></th>\n",
              "      <th>title</th>\n",
              "      <th>category</th>\n",
              "    </tr>\n",
              "  </thead>\n",
              "  <tbody>\n",
              "    <tr>\n",
              "      <th>0</th>\n",
              "      <td>Kolkata&amp;#39;s Famous Egg Ghugni at Railway Sta...</td>\n",
              "      <td>food</td>\n",
              "    </tr>\n",
              "    <tr>\n",
              "      <th>1</th>\n",
              "      <td>Eating Triangle Food for a day || Triangle Foo...</td>\n",
              "      <td>food</td>\n",
              "    </tr>\n",
              "    <tr>\n",
              "      <th>2</th>\n",
              "      <td>Indian Tries Authentic Singapore Restaurant Fo...</td>\n",
              "      <td>food</td>\n",
              "    </tr>\n",
              "    <tr>\n",
              "      <th>3</th>\n",
              "      <td>I Tried India’s Most Weird Street Food 😱 *MAGG...</td>\n",
              "      <td>food</td>\n",
              "    </tr>\n",
              "    <tr>\n",
              "      <th>4</th>\n",
              "      <td>INDIAN FOOD MAGIC | CARRYMINATI</td>\n",
              "      <td>food</td>\n",
              "    </tr>\n",
              "    <tr>\n",
              "      <th>...</th>\n",
              "      <td>...</td>\n",
              "      <td>...</td>\n",
              "    </tr>\n",
              "    <tr>\n",
              "      <th>65995</th>\n",
              "      <td>Vivo T1 Unboxing #youtubeshorts #ytshorts #sho...</td>\n",
              "      <td>smart phone</td>\n",
              "    </tr>\n",
              "    <tr>\n",
              "      <th>65996</th>\n",
              "      <td>Upcoming SmartPhones In April 2022 ⭐</td>\n",
              "      <td>smart phone</td>\n",
              "    </tr>\n",
              "    <tr>\n",
              "      <th>65997</th>\n",
              "      <td>How to 🔓Unlock Bootloader on any Vivo smartpho...</td>\n",
              "      <td>smart phone</td>\n",
              "    </tr>\n",
              "    <tr>\n",
              "      <th>65998</th>\n",
              "      <td>Vivo T1.     #shorts #video #trending #viral #...</td>\n",
              "      <td>smart phone</td>\n",
              "    </tr>\n",
              "    <tr>\n",
              "      <th>65999</th>\n",
              "      <td>all Vivo smartphone blacklist solution #short#...</td>\n",
              "      <td>smart phone</td>\n",
              "    </tr>\n",
              "  </tbody>\n",
              "</table>\n",
              "<p>66000 rows × 2 columns</p>\n",
              "</div>\n",
              "      <button class=\"colab-df-convert\" onclick=\"convertToInteractive('df-8a2b6068-4648-48ed-a526-b01397706d52')\"\n",
              "              title=\"Convert this dataframe to an interactive table.\"\n",
              "              style=\"display:none;\">\n",
              "        \n",
              "  <svg xmlns=\"http://www.w3.org/2000/svg\" height=\"24px\"viewBox=\"0 0 24 24\"\n",
              "       width=\"24px\">\n",
              "    <path d=\"M0 0h24v24H0V0z\" fill=\"none\"/>\n",
              "    <path d=\"M18.56 5.44l.94 2.06.94-2.06 2.06-.94-2.06-.94-.94-2.06-.94 2.06-2.06.94zm-11 1L8.5 8.5l.94-2.06 2.06-.94-2.06-.94L8.5 2.5l-.94 2.06-2.06.94zm10 10l.94 2.06.94-2.06 2.06-.94-2.06-.94-.94-2.06-.94 2.06-2.06.94z\"/><path d=\"M17.41 7.96l-1.37-1.37c-.4-.4-.92-.59-1.43-.59-.52 0-1.04.2-1.43.59L10.3 9.45l-7.72 7.72c-.78.78-.78 2.05 0 2.83L4 21.41c.39.39.9.59 1.41.59.51 0 1.02-.2 1.41-.59l7.78-7.78 2.81-2.81c.8-.78.8-2.07 0-2.86zM5.41 20L4 18.59l7.72-7.72 1.47 1.35L5.41 20z\"/>\n",
              "  </svg>\n",
              "      </button>\n",
              "      \n",
              "  <style>\n",
              "    .colab-df-container {\n",
              "      display:flex;\n",
              "      flex-wrap:wrap;\n",
              "      gap: 12px;\n",
              "    }\n",
              "\n",
              "    .colab-df-convert {\n",
              "      background-color: #E8F0FE;\n",
              "      border: none;\n",
              "      border-radius: 50%;\n",
              "      cursor: pointer;\n",
              "      display: none;\n",
              "      fill: #1967D2;\n",
              "      height: 32px;\n",
              "      padding: 0 0 0 0;\n",
              "      width: 32px;\n",
              "    }\n",
              "\n",
              "    .colab-df-convert:hover {\n",
              "      background-color: #E2EBFA;\n",
              "      box-shadow: 0px 1px 2px rgba(60, 64, 67, 0.3), 0px 1px 3px 1px rgba(60, 64, 67, 0.15);\n",
              "      fill: #174EA6;\n",
              "    }\n",
              "\n",
              "    [theme=dark] .colab-df-convert {\n",
              "      background-color: #3B4455;\n",
              "      fill: #D2E3FC;\n",
              "    }\n",
              "\n",
              "    [theme=dark] .colab-df-convert:hover {\n",
              "      background-color: #434B5C;\n",
              "      box-shadow: 0px 1px 3px 1px rgba(0, 0, 0, 0.15);\n",
              "      filter: drop-shadow(0px 1px 2px rgba(0, 0, 0, 0.3));\n",
              "      fill: #FFFFFF;\n",
              "    }\n",
              "  </style>\n",
              "\n",
              "      <script>\n",
              "        const buttonEl =\n",
              "          document.querySelector('#df-8a2b6068-4648-48ed-a526-b01397706d52 button.colab-df-convert');\n",
              "        buttonEl.style.display =\n",
              "          google.colab.kernel.accessAllowed ? 'block' : 'none';\n",
              "\n",
              "        async function convertToInteractive(key) {\n",
              "          const element = document.querySelector('#df-8a2b6068-4648-48ed-a526-b01397706d52');\n",
              "          const dataTable =\n",
              "            await google.colab.kernel.invokeFunction('convertToInteractive',\n",
              "                                                     [key], {});\n",
              "          if (!dataTable) return;\n",
              "\n",
              "          const docLinkHtml = 'Like what you see? Visit the ' +\n",
              "            '<a target=\"_blank\" href=https://colab.research.google.com/notebooks/data_table.ipynb>data table notebook</a>'\n",
              "            + ' to learn more about interactive tables.';\n",
              "          element.innerHTML = '';\n",
              "          dataTable['output_type'] = 'display_data';\n",
              "          await google.colab.output.renderOutput(dataTable, element);\n",
              "          const docLink = document.createElement('div');\n",
              "          docLink.innerHTML = docLinkHtml;\n",
              "          element.appendChild(docLink);\n",
              "        }\n",
              "      </script>\n",
              "    </div>\n",
              "  </div>\n",
              "  "
            ],
            "text/plain": [
              "                                                   title     category\n",
              "0      Kolkata&#39;s Famous Egg Ghugni at Railway Sta...         food\n",
              "1      Eating Triangle Food for a day || Triangle Foo...         food\n",
              "2      Indian Tries Authentic Singapore Restaurant Fo...         food\n",
              "3      I Tried India’s Most Weird Street Food 😱 *MAGG...         food\n",
              "4                        INDIAN FOOD MAGIC | CARRYMINATI         food\n",
              "...                                                  ...          ...\n",
              "65995  Vivo T1 Unboxing #youtubeshorts #ytshorts #sho...  smart phone\n",
              "65996               Upcoming SmartPhones In April 2022 ⭐  smart phone\n",
              "65997  How to 🔓Unlock Bootloader on any Vivo smartpho...  smart phone\n",
              "65998  Vivo T1.     #shorts #video #trending #viral #...  smart phone\n",
              "65999  all Vivo smartphone blacklist solution #short#...  smart phone\n",
              "\n",
              "[66000 rows x 2 columns]"
            ]
          },
          "execution_count": 49,
          "metadata": {},
          "output_type": "execute_result"
        }
      ],
      "source": [
        "df"
      ]
    },
    {
      "cell_type": "markdown",
      "metadata": {
        "id": "yXcuqEo26d2W"
      },
      "source": [
        "### Visualizing the Count of titles in each category using seaborn"
      ]
    },
    {
      "cell_type": "code",
      "execution_count": null,
      "metadata": {
        "colab": {
          "base_uri": "https://localhost:8080/",
          "height": 388
        },
        "id": "Yo6U__XJJh4S",
        "outputId": "c4ea15c5-26b7-4084-d83f-203c5e1ae346"
      },
      "outputs": [
        {
          "data": {
            "image/png": "[encoded data removed]",
            "text/plain": [
              "<Figure size 720x432 with 1 Axes>"
            ]
          },
          "metadata": {
            "needs_background": "light"
          },
          "output_type": "display_data"
        }
      ],
      "source": [
        "plt.figure(figsize=(10,6))\n",
        "plot=sns.countplot(data=df,x='category')\n",
        "plt.bar_label(plot.containers[0])\n",
        "plt.show()"
      ]
    },
    {
      "cell_type": "markdown",
      "metadata": {
        "id": "WErwPUHQ6nbR"
      },
      "source": [
        "### Checking if there are any null values in the data"
      ]
    },
    {
      "cell_type": "code",
      "execution_count": null,
      "metadata": {
        "colab": {
          "base_uri": "https://localhost:8080/"
        },
        "id": "NzpAnVnaJbjY",
        "outputId": "f67f6c36-d3f0-4f58-dfce-85d3196dd9ac"
      },
      "outputs": [
        {
          "data": {
            "text/plain": [
              "title       0\n",
              "category    0\n",
              "dtype: int64"
            ]
          },
          "execution_count": 51,
          "metadata": {},
          "output_type": "execute_result"
        }
      ],
      "source": [
        "df.isna().sum()"
      ]
    },
    {
      "cell_type": "markdown",
      "metadata": {
        "id": "daqU-HYB6xWL"
      },
      "source": [
        "### Removing special characters in the titles using regex"
      ]
    },
    {
      "cell_type": "code",
      "execution_count": null,
      "metadata": {
        "id": "yKRxIQVUGXt9"
      },
      "outputs": [],
      "source": [
        "df['title']=df['title'].str.replace('[^a-zA-Z0-9]+',' ',regex=True)"
      ]
    },
    {
      "cell_type": "code",
      "execution_count": null,
      "metadata": {
        "colab": {
          "base_uri": "https://localhost:8080/",
          "height": 424
        },
        "id": "XRrcdEI5JYSr",
        "outputId": "9d1c12bb-a7b7-4d9d-940a-1ad1133023e0"
      },
      "outputs": [
        {
          "data": {
            "text/html": [
              "\n",
              "  <div id=\"df-e499ccf1-e38f-462f-a6f4-74705c1ea65f\">\n",
              "    <div class=\"colab-df-container\">\n",
              "      <div>\n",
              "<style scoped>\n",
              "    .dataframe tbody tr th:only-of-type {\n",
              "        vertical-align: middle;\n",
              "    }\n",
              "\n",
              "    .dataframe tbody tr th {\n",
              "        vertical-align: top;\n",
              "    }\n",
              "\n",
              "    .dataframe thead th {\n",
              "        text-align: right;\n",
              "    }\n",
              "</style>\n",
              "<table border=\"1\" class=\"dataframe\">\n",
              "  <thead>\n",
              "    <tr style=\"text-align: right;\">\n",
              "      <th></th>\n",
              "      <th>title</th>\n",
              "      <th>category</th>\n",
              "    </tr>\n",
              "  </thead>\n",
              "  <tbody>\n",
              "    <tr>\n",
              "      <th>0</th>\n",
              "      <td>Kolkata 39 s Famous Egg Ghugni at Railway Stat...</td>\n",
              "      <td>food</td>\n",
              "    </tr>\n",
              "    <tr>\n",
              "      <th>1</th>\n",
              "      <td>Eating Triangle Food for a day Triangle Food C...</td>\n",
              "      <td>food</td>\n",
              "    </tr>\n",
              "    <tr>\n",
              "      <th>2</th>\n",
              "      <td>Indian Tries Authentic Singapore Restaurant Fo...</td>\n",
              "      <td>food</td>\n",
              "    </tr>\n",
              "    <tr>\n",
              "      <th>3</th>\n",
              "      <td>I Tried India s Most Weird Street Food MAGGI D...</td>\n",
              "      <td>food</td>\n",
              "    </tr>\n",
              "    <tr>\n",
              "      <th>4</th>\n",
              "      <td>INDIAN FOOD MAGIC CARRYMINATI</td>\n",
              "      <td>food</td>\n",
              "    </tr>\n",
              "    <tr>\n",
              "      <th>...</th>\n",
              "      <td>...</td>\n",
              "      <td>...</td>\n",
              "    </tr>\n",
              "    <tr>\n",
              "      <th>65995</th>\n",
              "      <td>Vivo T1 Unboxing youtubeshorts ytshorts shorts...</td>\n",
              "      <td>smart phone</td>\n",
              "    </tr>\n",
              "    <tr>\n",
              "      <th>65996</th>\n",
              "      <td>Upcoming SmartPhones In April 2022</td>\n",
              "      <td>smart phone</td>\n",
              "    </tr>\n",
              "    <tr>\n",
              "      <th>65997</th>\n",
              "      <td>How to Unlock Bootloader on any Vivo smartphon...</td>\n",
              "      <td>smart phone</td>\n",
              "    </tr>\n",
              "    <tr>\n",
              "      <th>65998</th>\n",
              "      <td>Vivo T1 shorts video trending viral subscribe ...</td>\n",
              "      <td>smart phone</td>\n",
              "    </tr>\n",
              "    <tr>\n",
              "      <th>65999</th>\n",
              "      <td>all Vivo smartphone blacklist solution short h...</td>\n",
              "      <td>smart phone</td>\n",
              "    </tr>\n",
              "  </tbody>\n",
              "</table>\n",
              "<p>66000 rows × 2 columns</p>\n",
              "</div>\n",
              "      <button class=\"colab-df-convert\" onclick=\"convertToInteractive('df-e499ccf1-e38f-462f-a6f4-74705c1ea65f')\"\n",
              "              title=\"Convert this dataframe to an interactive table.\"\n",
              "              style=\"display:none;\">\n",
              "        \n",
              "  <svg xmlns=\"http://www.w3.org/2000/svg\" height=\"24px\"viewBox=\"0 0 24 24\"\n",
              "       width=\"24px\">\n",
              "    <path d=\"M0 0h24v24H0V0z\" fill=\"none\"/>\n",
              "    <path d=\"M18.56 5.44l.94 2.06.94-2.06 2.06-.94-2.06-.94-.94-2.06-.94 2.06-2.06.94zm-11 1L8.5 8.5l.94-2.06 2.06-.94-2.06-.94L8.5 2.5l-.94 2.06-2.06.94zm10 10l.94 2.06.94-2.06 2.06-.94-2.06-.94-.94-2.06-.94 2.06-2.06.94z\"/><path d=\"M17.41 7.96l-1.37-1.37c-.4-.4-.92-.59-1.43-.59-.52 0-1.04.2-1.43.59L10.3 9.45l-7.72 7.72c-.78.78-.78 2.05 0 2.83L4 21.41c.39.39.9.59 1.41.59.51 0 1.02-.2 1.41-.59l7.78-7.78 2.81-2.81c.8-.78.8-2.07 0-2.86zM5.41 20L4 18.59l7.72-7.72 1.47 1.35L5.41 20z\"/>\n",
              "  </svg>\n",
              "      </button>\n",
              "      \n",
              "  <style>\n",
              "    .colab-df-container {\n",
              "      display:flex;\n",
              "      flex-wrap:wrap;\n",
              "      gap: 12px;\n",
              "    }\n",
              "\n",
              "    .colab-df-convert {\n",
              "      background-color: #E8F0FE;\n",
              "      border: none;\n",
              "      border-radius: 50%;\n",
              "      cursor: pointer;\n",
              "      display: none;\n",
              "      fill: #1967D2;\n",
              "      height: 32px;\n",
              "      padding: 0 0 0 0;\n",
              "      width: 32px;\n",
              "    }\n",
              "\n",
              "    .colab-df-convert:hover {\n",
              "      background-color: #E2EBFA;\n",
              "      box-shadow: 0px 1px 2px rgba(60, 64, 67, 0.3), 0px 1px 3px 1px rgba(60, 64, 67, 0.15);\n",
              "      fill: #174EA6;\n",
              "    }\n",
              "\n",
              "    [theme=dark] .colab-df-convert {\n",
              "      background-color: #3B4455;\n",
              "      fill: #D2E3FC;\n",
              "    }\n",
              "\n",
              "    [theme=dark] .colab-df-convert:hover {\n",
              "      background-color: #434B5C;\n",
              "      box-shadow: 0px 1px 3px 1px rgba(0, 0, 0, 0.15);\n",
              "      filter: drop-shadow(0px 1px 2px rgba(0, 0, 0, 0.3));\n",
              "      fill: #FFFFFF;\n",
              "    }\n",
              "  </style>\n",
              "\n",
              "      <script>\n",
              "        const buttonEl =\n",
              "          document.querySelector('#df-e499ccf1-e38f-462f-a6f4-74705c1ea65f button.colab-df-convert');\n",
              "        buttonEl.style.display =\n",
              "          google.colab.kernel.accessAllowed ? 'block' : 'none';\n",
              "\n",
              "        async function convertToInteractive(key) {\n",
              "          const element = document.querySelector('#df-e499ccf1-e38f-462f-a6f4-74705c1ea65f');\n",
              "          const dataTable =\n",
              "            await google.colab.kernel.invokeFunction('convertToInteractive',\n",
              "                                                     [key], {});\n",
              "          if (!dataTable) return;\n",
              "\n",
              "          const docLinkHtml = 'Like what you see? Visit the ' +\n",
              "            '<a target=\"_blank\" href=https://colab.research.google.com/notebooks/data_table.ipynb>data table notebook</a>'\n",
              "            + ' to learn more about interactive tables.';\n",
              "          element.innerHTML = '';\n",
              "          dataTable['output_type'] = 'display_data';\n",
              "          await google.colab.output.renderOutput(dataTable, element);\n",
              "          const docLink = document.createElement('div');\n",
              "          docLink.innerHTML = docLinkHtml;\n",
              "          element.appendChild(docLink);\n",
              "        }\n",
              "      </script>\n",
              "    </div>\n",
              "  </div>\n",
              "  "
            ],
            "text/plain": [
              "                                                   title     category\n",
              "0      Kolkata 39 s Famous Egg Ghugni at Railway Stat...         food\n",
              "1      Eating Triangle Food for a day Triangle Food C...         food\n",
              "2      Indian Tries Authentic Singapore Restaurant Fo...         food\n",
              "3      I Tried India s Most Weird Street Food MAGGI D...         food\n",
              "4                          INDIAN FOOD MAGIC CARRYMINATI         food\n",
              "...                                                  ...          ...\n",
              "65995  Vivo T1 Unboxing youtubeshorts ytshorts shorts...  smart phone\n",
              "65996                Upcoming SmartPhones In April 2022   smart phone\n",
              "65997  How to Unlock Bootloader on any Vivo smartphon...  smart phone\n",
              "65998  Vivo T1 shorts video trending viral subscribe ...  smart phone\n",
              "65999  all Vivo smartphone blacklist solution short h...  smart phone\n",
              "\n",
              "[66000 rows x 2 columns]"
            ]
          },
          "execution_count": 53,
          "metadata": {},
          "output_type": "execute_result"
        }
      ],
      "source": [
        "df"
      ]
    },
    {
      "cell_type": "code",
      "execution_count": null,
      "metadata": {
        "colab": {
          "base_uri": "https://localhost:8080/"
        },
        "id": "DGtHmOl0rES7",
        "outputId": "7382c134-481b-40aa-baf6-66bc9ee071cb"
      },
      "outputs": [
        {
          "name": "stderr",
          "output_type": "stream",
          "text": [
            "[nltk_data] Downloading package stopwords to /root/nltk_data...\n",
            "[nltk_data]   Package stopwords is already up-to-date!\n"
          ]
        }
      ],
      "source": [
        "nltk.download('stopwords')\n",
        "stop=stopwords.words('english')"
      ]
    },
    {
      "cell_type": "markdown",
      "metadata": {
        "id": "aSdnH91H69Ql"
      },
      "source": [
        "### Tokenizing the titles using nltk.word_tokenize method"
      ]
    },
    {
      "cell_type": "code",
      "execution_count": null,
      "metadata": {
        "colab": {
          "base_uri": "https://localhost:8080/"
        },
        "id": "Kip_ozxStm4-",
        "outputId": "74164a43-d590-42a9-fdf3-462f60f7ea6d"
      },
      "outputs": [
        {
          "name": "stderr",
          "output_type": "stream",
          "text": [
            "[nltk_data] Downloading package punkt to /root/nltk_data...\n",
            "[nltk_data]   Package punkt is already up-to-date!\n"
          ]
        }
      ],
      "source": [
        "nltk.download('punkt')\n",
        "df['title'] = df['title'].apply(lambda x: [i.lower() for i in nltk.word_tokenize(x) if i.lower() not in stop])"
      ]
    },
    {
      "cell_type": "code",
      "execution_count": null,
      "metadata": {
        "colab": {
          "base_uri": "https://localhost:8080/",
          "height": 424
        },
        "id": "gcVhjMcxuPFL",
        "outputId": "4f3e26e6-02ee-48a1-849e-4204743b839b"
      },
      "outputs": [
        {
          "data": {
            "text/html": [
              "\n",
              "  <div id=\"df-a6a5d0ad-701a-4a24-8517-28300f46d8eb\">\n",
              "    <div class=\"colab-df-container\">\n",
              "      <div>\n",
              "<style scoped>\n",
              "    .dataframe tbody tr th:only-of-type {\n",
              "        vertical-align: middle;\n",
              "    }\n",
              "\n",
              "    .dataframe tbody tr th {\n",
              "        vertical-align: top;\n",
              "    }\n",
              "\n",
              "    .dataframe thead th {\n",
              "        text-align: right;\n",
              "    }\n",
              "</style>\n",
              "<table border=\"1\" class=\"dataframe\">\n",
              "  <thead>\n",
              "    <tr style=\"text-align: right;\">\n",
              "      <th></th>\n",
              "      <th>title</th>\n",
              "      <th>category</th>\n",
              "    </tr>\n",
              "  </thead>\n",
              "  <tbody>\n",
              "    <tr>\n",
              "      <th>0</th>\n",
              "      <td>[kolkata, 39, famous, egg, ghugni, railway, st...</td>\n",
              "      <td>food</td>\n",
              "    </tr>\n",
              "    <tr>\n",
              "      <th>1</th>\n",
              "      <td>[eating, triangle, food, day, triangle, food, ...</td>\n",
              "      <td>food</td>\n",
              "    </tr>\n",
              "    <tr>\n",
              "      <th>2</th>\n",
              "      <td>[indian, tries, authentic, singapore, restaura...</td>\n",
              "      <td>food</td>\n",
              "    </tr>\n",
              "    <tr>\n",
              "      <th>3</th>\n",
              "      <td>[tried, india, weird, street, food, maggi, dosa]</td>\n",
              "      <td>food</td>\n",
              "    </tr>\n",
              "    <tr>\n",
              "      <th>4</th>\n",
              "      <td>[indian, food, magic, carryminati]</td>\n",
              "      <td>food</td>\n",
              "    </tr>\n",
              "    <tr>\n",
              "      <th>...</th>\n",
              "      <td>...</td>\n",
              "      <td>...</td>\n",
              "    </tr>\n",
              "    <tr>\n",
              "      <th>65995</th>\n",
              "      <td>[vivo, t1, unboxing, youtubeshorts, ytshorts, ...</td>\n",
              "      <td>smart phone</td>\n",
              "    </tr>\n",
              "    <tr>\n",
              "      <th>65996</th>\n",
              "      <td>[upcoming, smartphones, april, 2022]</td>\n",
              "      <td>smart phone</td>\n",
              "    </tr>\n",
              "    <tr>\n",
              "      <th>65997</th>\n",
              "      <td>[unlock, bootloader, vivo, smartphones, lock, ...</td>\n",
              "      <td>smart phone</td>\n",
              "    </tr>\n",
              "    <tr>\n",
              "      <th>65998</th>\n",
              "      <td>[vivo, t1, shorts, video, trending, viral, sub...</td>\n",
              "      <td>smart phone</td>\n",
              "    </tr>\n",
              "    <tr>\n",
              "      <th>65999</th>\n",
              "      <td>[vivo, smartphone, blacklist, solution, short,...</td>\n",
              "      <td>smart phone</td>\n",
              "    </tr>\n",
              "  </tbody>\n",
              "</table>\n",
              "<p>66000 rows × 2 columns</p>\n",
              "</div>\n",
              "      <button class=\"colab-df-convert\" onclick=\"convertToInteractive('df-a6a5d0ad-701a-4a24-8517-28300f46d8eb')\"\n",
              "              title=\"Convert this dataframe to an interactive table.\"\n",
              "              style=\"display:none;\">\n",
              "        \n",
              "  <svg xmlns=\"http://www.w3.org/2000/svg\" height=\"24px\"viewBox=\"0 0 24 24\"\n",
              "       width=\"24px\">\n",
              "    <path d=\"M0 0h24v24H0V0z\" fill=\"none\"/>\n",
              "    <path d=\"M18.56 5.44l.94 2.06.94-2.06 2.06-.94-2.06-.94-.94-2.06-.94 2.06-2.06.94zm-11 1L8.5 8.5l.94-2.06 2.06-.94-2.06-.94L8.5 2.5l-.94 2.06-2.06.94zm10 10l.94 2.06.94-2.06 2.06-.94-2.06-.94-.94-2.06-.94 2.06-2.06.94z\"/><path d=\"M17.41 7.96l-1.37-1.37c-.4-.4-.92-.59-1.43-.59-.52 0-1.04.2-1.43.59L10.3 9.45l-7.72 7.72c-.78.78-.78 2.05 0 2.83L4 21.41c.39.39.9.59 1.41.59.51 0 1.02-.2 1.41-.59l7.78-7.78 2.81-2.81c.8-.78.8-2.07 0-2.86zM5.41 20L4 18.59l7.72-7.72 1.47 1.35L5.41 20z\"/>\n",
              "  </svg>\n",
              "      </button>\n",
              "      \n",
              "  <style>\n",
              "    .colab-df-container {\n",
              "      display:flex;\n",
              "      flex-wrap:wrap;\n",
              "      gap: 12px;\n",
              "    }\n",
              "\n",
              "    .colab-df-convert {\n",
              "      background-color: #E8F0FE;\n",
              "      border: none;\n",
              "      border-radius: 50%;\n",
              "      cursor: pointer;\n",
              "      display: none;\n",
              "      fill: #1967D2;\n",
              "      height: 32px;\n",
              "      padding: 0 0 0 0;\n",
              "      width: 32px;\n",
              "    }\n",
              "\n",
              "    .colab-df-convert:hover {\n",
              "      background-color: #E2EBFA;\n",
              "      box-shadow: 0px 1px 2px rgba(60, 64, 67, 0.3), 0px 1px 3px 1px rgba(60, 64, 67, 0.15);\n",
              "      fill: #174EA6;\n",
              "    }\n",
              "\n",
              "    [theme=dark] .colab-df-convert {\n",
              "      background-color: #3B4455;\n",
              "      fill: #D2E3FC;\n",
              "    }\n",
              "\n",
              "    [theme=dark] .colab-df-convert:hover {\n",
              "      background-color: #434B5C;\n",
              "      box-shadow: 0px 1px 3px 1px rgba(0, 0, 0, 0.15);\n",
              "      filter: drop-shadow(0px 1px 2px rgba(0, 0, 0, 0.3));\n",
              "      fill: #FFFFFF;\n",
              "    }\n",
              "  </style>\n",
              "\n",
              "      <script>\n",
              "        const buttonEl =\n",
              "          document.querySelector('#df-a6a5d0ad-701a-4a24-8517-28300f46d8eb button.colab-df-convert');\n",
              "        buttonEl.style.display =\n",
              "          google.colab.kernel.accessAllowed ? 'block' : 'none';\n",
              "\n",
              "        async function convertToInteractive(key) {\n",
              "          const element = document.querySelector('#df-a6a5d0ad-701a-4a24-8517-28300f46d8eb');\n",
              "          const dataTable =\n",
              "            await google.colab.kernel.invokeFunction('convertToInteractive',\n",
              "                                                     [key], {});\n",
              "          if (!dataTable) return;\n",
              "\n",
              "          const docLinkHtml = 'Like what you see? Visit the ' +\n",
              "            '<a target=\"_blank\" href=https://colab.research.google.com/notebooks/data_table.ipynb>data table notebook</a>'\n",
              "            + ' to learn more about interactive tables.';\n",
              "          element.innerHTML = '';\n",
              "          dataTable['output_type'] = 'display_data';\n",
              "          await google.colab.output.renderOutput(dataTable, element);\n",
              "          const docLink = document.createElement('div');\n",
              "          docLink.innerHTML = docLinkHtml;\n",
              "          element.appendChild(docLink);\n",
              "        }\n",
              "      </script>\n",
              "    </div>\n",
              "  </div>\n",
              "  "
            ],
            "text/plain": [
              "                                                   title     category\n",
              "0      [kolkata, 39, famous, egg, ghugni, railway, st...         food\n",
              "1      [eating, triangle, food, day, triangle, food, ...         food\n",
              "2      [indian, tries, authentic, singapore, restaura...         food\n",
              "3       [tried, india, weird, street, food, maggi, dosa]         food\n",
              "4                     [indian, food, magic, carryminati]         food\n",
              "...                                                  ...          ...\n",
              "65995  [vivo, t1, unboxing, youtubeshorts, ytshorts, ...  smart phone\n",
              "65996               [upcoming, smartphones, april, 2022]  smart phone\n",
              "65997  [unlock, bootloader, vivo, smartphones, lock, ...  smart phone\n",
              "65998  [vivo, t1, shorts, video, trending, viral, sub...  smart phone\n",
              "65999  [vivo, smartphone, blacklist, solution, short,...  smart phone\n",
              "\n",
              "[66000 rows x 2 columns]"
            ]
          },
          "execution_count": 56,
          "metadata": {},
          "output_type": "execute_result"
        }
      ],
      "source": [
        "df"
      ]
    },
    {
      "cell_type": "code",
      "execution_count": null,
      "metadata": {
        "colab": {
          "base_uri": "https://localhost:8080/"
        },
        "id": "7saQwtsjv2wC",
        "outputId": "c5acf6c7-e301-4ac3-9f82-d88bec57c0bc"
      },
      "outputs": [
        {
          "name": "stderr",
          "output_type": "stream",
          "text": [
            "[nltk_data] Downloading package wordnet to /root/nltk_data...\n",
            "[nltk_data]   Package wordnet is already up-to-date!\n",
            "[nltk_data] Downloading package omw-1.4 to /root/nltk_data...\n",
            "[nltk_data]   Package omw-1.4 is already up-to-date!\n"
          ]
        },
        {
          "data": {
            "text/plain": [
              "True"
            ]
          },
          "execution_count": 57,
          "metadata": {},
          "output_type": "execute_result"
        }
      ],
      "source": [
        "nltk.download('wordnet')\n",
        "nltk.download('omw-1.4')"
      ]
    },
    {
      "cell_type": "markdown",
      "metadata": {
        "id": "EjhzPiN87KKz"
      },
      "source": [
        "### Lemmatizing the words in each title to convert each word to its root form"
      ]
    },
    {
      "cell_type": "code",
      "execution_count": null,
      "metadata": {
        "id": "xkmQSL22uVHF"
      },
      "outputs": [],
      "source": [
        "from nltk.stem import WordNetLemmatizer\n",
        "lemmatizer = WordNetLemmatizer()\n",
        "df['title'] = df['title'].apply(lambda x: [lemmatizer.lemmatize(i) for i in x]).apply(lambda x:' '.join(x))"
      ]
    },
    {
      "cell_type": "code",
      "execution_count": null,
      "metadata": {
        "colab": {
          "base_uri": "https://localhost:8080/",
          "height": 424
        },
        "id": "RywvfBUpvR5Z",
        "outputId": "1428965e-b44d-4509-e147-f7aeb99f8af6"
      },
      "outputs": [
        {
          "data": {
            "text/html": [
              "\n",
              "  <div id=\"df-1313a182-fd7f-4f7f-8890-e1a20e2c8123\">\n",
              "    <div class=\"colab-df-container\">\n",
              "      <div>\n",
              "<style scoped>\n",
              "    .dataframe tbody tr th:only-of-type {\n",
              "        vertical-align: middle;\n",
              "    }\n",
              "\n",
              "    .dataframe tbody tr th {\n",
              "        vertical-align: top;\n",
              "    }\n",
              "\n",
              "    .dataframe thead th {\n",
              "        text-align: right;\n",
              "    }\n",
              "</style>\n",
              "<table border=\"1\" class=\"dataframe\">\n",
              "  <thead>\n",
              "    <tr style=\"text-align: right;\">\n",
              "      <th></th>\n",
              "      <th>title</th>\n",
              "      <th>category</th>\n",
              "    </tr>\n",
              "  </thead>\n",
              "  <tbody>\n",
              "    <tr>\n",
              "      <th>0</th>\n",
              "      <td>kolkata 39 famous egg ghugni railway station i...</td>\n",
              "      <td>food</td>\n",
              "    </tr>\n",
              "    <tr>\n",
              "      <th>1</th>\n",
              "      <td>eating triangle food day triangle food challen...</td>\n",
              "      <td>food</td>\n",
              "    </tr>\n",
              "    <tr>\n",
              "      <th>2</th>\n",
              "      <td>indian try authentic singapore restaurant food...</td>\n",
              "      <td>food</td>\n",
              "    </tr>\n",
              "    <tr>\n",
              "      <th>3</th>\n",
              "      <td>tried india weird street food maggi dosa</td>\n",
              "      <td>food</td>\n",
              "    </tr>\n",
              "    <tr>\n",
              "      <th>4</th>\n",
              "      <td>indian food magic carryminati</td>\n",
              "      <td>food</td>\n",
              "    </tr>\n",
              "    <tr>\n",
              "      <th>...</th>\n",
              "      <td>...</td>\n",
              "      <td>...</td>\n",
              "    </tr>\n",
              "    <tr>\n",
              "      <th>65995</th>\n",
              "      <td>vivo t1 unboxing youtubeshorts ytshorts short ...</td>\n",
              "      <td>smart phone</td>\n",
              "    </tr>\n",
              "    <tr>\n",
              "      <th>65996</th>\n",
              "      <td>upcoming smartphones april 2022</td>\n",
              "      <td>smart phone</td>\n",
              "    </tr>\n",
              "    <tr>\n",
              "      <th>65997</th>\n",
              "      <td>unlock bootloader vivo smartphones lock bootlo...</td>\n",
              "      <td>smart phone</td>\n",
              "    </tr>\n",
              "    <tr>\n",
              "      <th>65998</th>\n",
              "      <td>vivo t1 short video trending viral subscribe i...</td>\n",
              "      <td>smart phone</td>\n",
              "    </tr>\n",
              "    <tr>\n",
              "      <th>65999</th>\n",
              "      <td>vivo smartphone blacklist solution short viral...</td>\n",
              "      <td>smart phone</td>\n",
              "    </tr>\n",
              "  </tbody>\n",
              "</table>\n",
              "<p>66000 rows × 2 columns</p>\n",
              "</div>\n",
              "      <button class=\"colab-df-convert\" onclick=\"convertToInteractive('df-1313a182-fd7f-4f7f-8890-e1a20e2c8123')\"\n",
              "              title=\"Convert this dataframe to an interactive table.\"\n",
              "              style=\"display:none;\">\n",
              "        \n",
              "  <svg xmlns=\"http://www.w3.org/2000/svg\" height=\"24px\"viewBox=\"0 0 24 24\"\n",
              "       width=\"24px\">\n",
              "    <path d=\"M0 0h24v24H0V0z\" fill=\"none\"/>\n",
              "    <path d=\"M18.56 5.44l.94 2.06.94-2.06 2.06-.94-2.06-.94-.94-2.06-.94 2.06-2.06.94zm-11 1L8.5 8.5l.94-2.06 2.06-.94-2.06-.94L8.5 2.5l-.94 2.06-2.06.94zm10 10l.94 2.06.94-2.06 2.06-.94-2.06-.94-.94-2.06-.94 2.06-2.06.94z\"/><path d=\"M17.41 7.96l-1.37-1.37c-.4-.4-.92-.59-1.43-.59-.52 0-1.04.2-1.43.59L10.3 9.45l-7.72 7.72c-.78.78-.78 2.05 0 2.83L4 21.41c.39.39.9.59 1.41.59.51 0 1.02-.2 1.41-.59l7.78-7.78 2.81-2.81c.8-.78.8-2.07 0-2.86zM5.41 20L4 18.59l7.72-7.72 1.47 1.35L5.41 20z\"/>\n",
              "  </svg>\n",
              "      </button>\n",
              "      \n",
              "  <style>\n",
              "    .colab-df-container {\n",
              "      display:flex;\n",
              "      flex-wrap:wrap;\n",
              "      gap: 12px;\n",
              "    }\n",
              "\n",
              "    .colab-df-convert {\n",
              "      background-color: #E8F0FE;\n",
              "      border: none;\n",
              "      border-radius: 50%;\n",
              "      cursor: pointer;\n",
              "      display: none;\n",
              "      fill: #1967D2;\n",
              "      height: 32px;\n",
              "      padding: 0 0 0 0;\n",
              "      width: 32px;\n",
              "    }\n",
              "\n",
              "    .colab-df-convert:hover {\n",
              "      background-color: #E2EBFA;\n",
              "      box-shadow: 0px 1px 2px rgba(60, 64, 67, 0.3), 0px 1px 3px 1px rgba(60, 64, 67, 0.15);\n",
              "      fill: #174EA6;\n",
              "    }\n",
              "\n",
              "    [theme=dark] .colab-df-convert {\n",
              "      background-color: #3B4455;\n",
              "      fill: #D2E3FC;\n",
              "    }\n",
              "\n",
              "    [theme=dark] .colab-df-convert:hover {\n",
              "      background-color: #434B5C;\n",
              "      box-shadow: 0px 1px 3px 1px rgba(0, 0, 0, 0.15);\n",
              "      filter: drop-shadow(0px 1px 2px rgba(0, 0, 0, 0.3));\n",
              "      fill: #FFFFFF;\n",
              "    }\n",
              "  </style>\n",
              "\n",
              "      <script>\n",
              "        const buttonEl =\n",
              "          document.querySelector('#df-1313a182-fd7f-4f7f-8890-e1a20e2c8123 button.colab-df-convert');\n",
              "        buttonEl.style.display =\n",
              "          google.colab.kernel.accessAllowed ? 'block' : 'none';\n",
              "\n",
              "        async function convertToInteractive(key) {\n",
              "          const element = document.querySelector('#df-1313a182-fd7f-4f7f-8890-e1a20e2c8123');\n",
              "          const dataTable =\n",
              "            await google.colab.kernel.invokeFunction('convertToInteractive',\n",
              "                                                     [key], {});\n",
              "          if (!dataTable) return;\n",
              "\n",
              "          const docLinkHtml = 'Like what you see? Visit the ' +\n",
              "            '<a target=\"_blank\" href=https://colab.research.google.com/notebooks/data_table.ipynb>data table notebook</a>'\n",
              "            + ' to learn more about interactive tables.';\n",
              "          element.innerHTML = '';\n",
              "          dataTable['output_type'] = 'display_data';\n",
              "          await google.colab.output.renderOutput(dataTable, element);\n",
              "          const docLink = document.createElement('div');\n",
              "          docLink.innerHTML = docLinkHtml;\n",
              "          element.appendChild(docLink);\n",
              "        }\n",
              "      </script>\n",
              "    </div>\n",
              "  </div>\n",
              "  "
            ],
            "text/plain": [
              "                                                   title     category\n",
              "0      kolkata 39 famous egg ghugni railway station i...         food\n",
              "1      eating triangle food day triangle food challen...         food\n",
              "2      indian try authentic singapore restaurant food...         food\n",
              "3               tried india weird street food maggi dosa         food\n",
              "4                          indian food magic carryminati         food\n",
              "...                                                  ...          ...\n",
              "65995  vivo t1 unboxing youtubeshorts ytshorts short ...  smart phone\n",
              "65996                    upcoming smartphones april 2022  smart phone\n",
              "65997  unlock bootloader vivo smartphones lock bootlo...  smart phone\n",
              "65998  vivo t1 short video trending viral subscribe i...  smart phone\n",
              "65999  vivo smartphone blacklist solution short viral...  smart phone\n",
              "\n",
              "[66000 rows x 2 columns]"
            ]
          },
          "execution_count": 59,
          "metadata": {},
          "output_type": "execute_result"
        }
      ],
      "source": [
        "df"
      ]
    },
    {
      "cell_type": "markdown",
      "metadata": {
        "id": "oI2EAmlQ7Ubu"
      },
      "source": [
        "### splitting the data into train and test sets for training the model and performance evaluation of the model"
      ]
    },
    {
      "cell_type": "code",
      "execution_count": null,
      "metadata": {
        "id": "KU1mZe2ev8_f"
      },
      "outputs": [],
      "source": [
        "x=df.iloc[:,0:-1].values\n",
        "y=df.iloc[:,-1].values\n",
        "x_train,x_test,y_train,y_test=train_test_split(x,y,test_size=.1,random_state=1,stratify=y)\n"
      ]
    },
    {
      "cell_type": "code",
      "execution_count": null,
      "metadata": {
        "colab": {
          "base_uri": "https://localhost:8080/"
        },
        "id": "5C9JWKzK0FgB",
        "outputId": "42db638d-4927-4a03-e9ab-0b666e7cabc8"
      },
      "outputs": [
        {
          "data": {
            "text/plain": [
              "array([['kolkata 39 famous egg ghugni railway station indian street food'],\n",
              "       ['eating triangle food day triangle food challenge 24 hour'],\n",
              "       ['indian try authentic singapore restaurant food saute short'],\n",
              "       ...,\n",
              "       ['unlock bootloader vivo smartphones lock bootloader'],\n",
              "       ['vivo t1 short video trending viral subscribe instagram short shortvideo reel'],\n",
              "       ['vivo smartphone blacklist solution short viral video']],\n",
              "      dtype=object)"
            ]
          },
          "execution_count": 61,
          "metadata": {},
          "output_type": "execute_result"
        }
      ],
      "source": [
        "x"
      ]
    },
    {
      "cell_type": "code",
      "execution_count": null,
      "metadata": {
        "colab": {
          "base_uri": "https://localhost:8080/"
        },
        "id": "jQvu8zfM0MDv",
        "outputId": "c48a56fd-60e9-4379-d12d-49539b73837a"
      },
      "outputs": [
        {
          "data": {
            "text/plain": [
              "array(['food', 'food', 'food', ..., 'smart phone', 'smart phone',\n",
              "       'smart phone'], dtype=object)"
            ]
          },
          "execution_count": 62,
          "metadata": {},
          "output_type": "execute_result"
        }
      ],
      "source": [
        "y"
      ]
    },
    {
      "cell_type": "markdown",
      "metadata": {
        "id": "ODNNQ9nK7hp1"
      },
      "source": [
        "### Creating a pipeline for Tfidfvectorizer(for vectorizing the title) and Randomforests algorithm"
      ]
    },
    {
      "cell_type": "code",
      "execution_count": null,
      "metadata": {
        "id": "54dapjIJ0aag"
      },
      "outputs": [],
      "source": [
        "clf=Pipeline([('tfidf',TfidfVectorizer()),('classifer',RandomForestClassifier())])\n"
      ]
    },
    {
      "cell_type": "markdown",
      "metadata": {
        "id": "EdDSTOVY8irD"
      },
      "source": [
        "### Training Random forests using training data"
      ]
    },
    {
      "cell_type": "code",
      "execution_count": null,
      "metadata": {
        "colab": {
          "base_uri": "https://localhost:8080/"
        },
        "id": "yvkGVoN404Ma",
        "outputId": "f457d888-37fc-429a-d8d1-02aa452bf7a9"
      },
      "outputs": [
        {
          "data": {
            "text/plain": [
              "Pipeline(steps=[('tfidf', TfidfVectorizer()),\n",
              "                ('classifer', RandomForestClassifier())])"
            ]
          },
          "execution_count": 64,
          "metadata": {},
          "output_type": "execute_result"
        }
      ],
      "source": [
        "clf.fit(x_train.flatten(),y_train.flatten())"
      ]
    },
    {
      "cell_type": "markdown",
      "metadata": {
        "id": "mAIoxX3r8wW0"
      },
      "source": [
        "### Testing test data and make predicitons for performance evaluation of the model"
      ]
    },
    {
      "cell_type": "code",
      "execution_count": null,
      "metadata": {
        "id": "hdyMKl9G07fY"
      },
      "outputs": [],
      "source": [
        "y_pred=clf.predict(x_test.flatten())"
      ]
    },
    {
      "cell_type": "code",
      "execution_count": null,
      "metadata": {
        "colab": {
          "base_uri": "https://localhost:8080/"
        },
        "id": "ub04KyQ226zA",
        "outputId": "af44de3a-5074-4b7f-c606-812ba157e77c"
      },
      "outputs": [
        {
          "data": {
            "text/plain": [
              "array(['maths', 'maths', 'smart phone', ..., 'smart phone', 'smart phone',\n",
              "       'food'], dtype=object)"
            ]
          },
          "execution_count": 66,
          "metadata": {},
          "output_type": "execute_result"
        }
      ],
      "source": [
        "y_pred"
      ]
    },
    {
      "cell_type": "markdown",
      "metadata": {
        "id": "duMAO1fg8_pY"
      },
      "source": [
        "### Use classification report for calculating the perfomance metrics such as precision ,recall ,accuracy and f1 score"
      ]
    },
    {
      "cell_type": "code",
      "execution_count": null,
      "metadata": {
        "id": "keVlbSF82-_K"
      },
      "outputs": [],
      "source": [
        "from sklearn.metrics import classification_report"
      ]
    },
    {
      "cell_type": "code",
      "execution_count": null,
      "metadata": {
        "id": "p44nFgxL3LwX"
      },
      "outputs": [],
      "source": [
        "report=classification_report(y_test,y_pred)"
      ]
    },
    {
      "cell_type": "code",
      "execution_count": null,
      "metadata": {
        "colab": {
          "base_uri": "https://localhost:8080/"
        },
        "id": "5zY1xacZ3bV_",
        "outputId": "110628f8-70d1-4085-aaa7-38d824c403a4"
      },
      "outputs": [
        {
          "name": "stdout",
          "output_type": "stream",
          "text": [
            "                  precision    recall  f1-score   support\n",
            "\n",
            "            food       0.98      1.00      0.99      1650\n",
            "machine learning       0.99      0.99      0.99      1650\n",
            "           maths       0.99      0.97      0.98      1650\n",
            "     smart phone       1.00      1.00      1.00      1650\n",
            "\n",
            "        accuracy                           0.99      6600\n",
            "       macro avg       0.99      0.99      0.99      6600\n",
            "    weighted avg       0.99      0.99      0.99      6600\n",
            "\n"
          ]
        }
      ],
      "source": [
        "print(report)"
      ]
    },
    {
      "cell_type": "markdown",
      "metadata": {
        "id": "wIiS0M049ORs"
      },
      "source": [
        "### Predicting the category of new titles"
      ]
    },
    {
      "cell_type": "code",
      "execution_count": null,
      "metadata": {
        "colab": {
          "base_uri": "https://localhost:8080/"
        },
        "id": "ueiyPq3L1RYl",
        "outputId": "87b7f838-d1db-4aec-b7e2-57168788cc8c"
      },
      "outputs": [
        {
          "data": {
            "text/plain": [
              "array(['machine learning'], dtype=object)"
            ]
          },
          "execution_count": 70,
          "metadata": {},
          "output_type": "execute_result"
        }
      ],
      "source": [
        "clf.predict([\"\"\" feature selection techniques \"\"\"])"
      ]
    },
    {
      "cell_type": "code",
      "execution_count": null,
      "metadata": {
        "colab": {
          "base_uri": "https://localhost:8080/"
        },
        "id": "R3X-inB-jiH3",
        "outputId": "c6befc64-66a3-464e-f32c-0948b0fe7fce"
      },
      "outputs": [
        {
          "data": {
            "text/plain": [
              "array(['food'], dtype=object)"
            ]
          },
          "execution_count": 72,
          "metadata": {},
          "output_type": "execute_result"
        }
      ],
      "source": [
        "clf.predict(['Kerala egg curry recipe'])"
      ]
    },
    {
      "cell_type": "code",
      "execution_count": null,
      "metadata": {
        "colab": {
          "base_uri": "https://localhost:8080/"
        },
        "id": "HKHtrKcK95iG",
        "outputId": "eef06f0c-8c71-46d6-bed5-1b2e0263207f"
      },
      "outputs": [
        {
          "data": {
            "text/plain": [
              "array(['maths'], dtype=object)"
            ]
          },
          "execution_count": 74,
          "metadata": {},
          "output_type": "execute_result"
        }
      ],
      "source": [
        "clf.predict(['Linear algebra tutorial'])"
      ]
    },
    {
      "cell_type": "code",
      "execution_count": null,
      "metadata": {
        "colab": {
          "base_uri": "https://localhost:8080/"
        },
        "id": "ax6dl9E49_WG",
        "outputId": "ef5d8e48-d9af-4ae1-a1c5-a126069b4b4d"
      },
      "outputs": [
        {
          "data": {
            "text/plain": [
              "array(['smart phone'], dtype=object)"
            ]
          },
          "execution_count": 76,
          "metadata": {},
          "output_type": "execute_result"
        }
      ],
      "source": [
        "clf.predict(['amoled vs oled display'])"
      ]
    },
    {
      "cell_type": "code",
      "execution_count": null,
      "metadata": {
        "id": "ztvZh9M2-F4H"
      },
      "outputs": [],
      "source": []
    }
  ],
  "metadata": {
    "colab": {
      "authorship_tag": "ABX9TyNzr8wJI7qXsc36ge6IWZtt",
      "include_colab_link": true,
      "mount_file_id": "1aWjW7t5RU4emk6VM9yhSyZNgOqPk_ygG",
      "provenance": []
    },
    "kernelspec": {
      "display_name": "Python 3",
      "name": "python3"
    },
    "language_info": {
      "codemirror_mode": {
        "name": "ipython",
        "version": 3
      },
      "file_extension": ".py",
      "mimetype": "text/x-python",
      "name": "python",
      "nbconvert_exporter": "python",
      "pygments_lexer": "ipython3",
      "version": "3.9.6"
    }
  },
  "nbformat": 4,
  "nbformat_minor": 0
}
